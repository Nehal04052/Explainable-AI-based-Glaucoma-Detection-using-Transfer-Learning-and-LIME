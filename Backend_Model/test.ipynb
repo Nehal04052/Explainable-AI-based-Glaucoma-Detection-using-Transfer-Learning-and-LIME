{
 "cells": [
  {
   "cell_type": "code",
   "execution_count": null,
   "metadata": {},
   "outputs": [],
   "source": [
    "import os\n",
    "import numpy as np\n",
    "from PIL import Image\n",
    "import tensorflow as tf"
   ]
  },
  {
   "cell_type": "code",
   "execution_count": 40,
   "metadata": {},
   "outputs": [],
   "source": [
    "from tensorflow.keras.applications import ResNet50\n",
    "from tensorflow.keras.applications.resnet50 import preprocess_input"
   ]
  },
  {
   "cell_type": "code",
   "execution_count": 31,
   "metadata": {},
   "outputs": [],
   "source": [
    "from tensorflow.keras.applications import InceptionV3\n",
    "from tensorflow.keras.applications.inception_v3 import preprocess_input"
   ]
  },
  {
   "cell_type": "code",
   "execution_count": 43,
   "metadata": {},
   "outputs": [],
   "source": [
    "from tensorflow.keras.applications.vgg16 import preprocess_input "
   ]
  },
  {
   "cell_type": "code",
   "execution_count": 47,
   "metadata": {},
   "outputs": [
    {
     "name": "stderr",
     "output_type": "stream",
     "text": [
      "WARNING:absl:Compiled the loaded model, but the compiled metrics have yet to be built. `model.compile_metrics` will be empty until you train or evaluate the model.\n"
     ]
    },
    {
     "name": "stdout",
     "output_type": "stream",
     "text": [
      "\u001b[1m1/1\u001b[0m \u001b[32m━━━━━━━━━━━━━━━━━━━━\u001b[0m\u001b[37m\u001b[0m \u001b[1m0s\u001b[0m 436ms/step\n",
      "Image: 050.jpg\n",
      "Raw predictions: 1.0\n",
      "Predicted class (0 or 1): 1\n",
      "--------------------------------------------------\n",
      "\u001b[1m1/1\u001b[0m \u001b[32m━━━━━━━━━━━━━━━━━━━━\u001b[0m\u001b[37m\u001b[0m \u001b[1m0s\u001b[0m 330ms/step\n",
      "Image: 072.jpg\n",
      "Raw predictions: 0.99815255\n",
      "Predicted class (0 or 1): 1\n",
      "--------------------------------------------------\n",
      "\u001b[1m1/1\u001b[0m \u001b[32m━━━━━━━━━━━━━━━━━━━━\u001b[0m\u001b[37m\u001b[0m \u001b[1m1s\u001b[0m 781ms/step\n",
      "Image: 087.jpg\n",
      "Raw predictions: 1.0\n",
      "Predicted class (0 or 1): 1\n",
      "--------------------------------------------------\n",
      "\u001b[1m1/1\u001b[0m \u001b[32m━━━━━━━━━━━━━━━━━━━━\u001b[0m\u001b[37m\u001b[0m \u001b[1m1s\u001b[0m 622ms/step\n",
      "Image: 110.jpg\n",
      "Raw predictions: 0.99999183\n",
      "Predicted class (0 or 1): 1\n",
      "--------------------------------------------------\n",
      "\u001b[1m1/1\u001b[0m \u001b[32m━━━━━━━━━━━━━━━━━━━━\u001b[0m\u001b[37m\u001b[0m \u001b[1m1s\u001b[0m 641ms/step\n",
      "Image: g0015.jpg\n",
      "Raw predictions: 1.0\n",
      "Predicted class (0 or 1): 1\n",
      "--------------------------------------------------\n",
      "\u001b[1m1/1\u001b[0m \u001b[32m━━━━━━━━━━━━━━━━━━━━\u001b[0m\u001b[37m\u001b[0m \u001b[1m0s\u001b[0m 424ms/step\n",
      "Image: image_200.jpg\n",
      "Raw predictions: 1.0\n",
      "Predicted class (0 or 1): 1\n",
      "--------------------------------------------------\n",
      "\u001b[1m1/1\u001b[0m \u001b[32m━━━━━━━━━━━━━━━━━━━━\u001b[0m\u001b[37m\u001b[0m \u001b[1m1s\u001b[0m 561ms/step\n",
      "Image: image_233.jpg\n",
      "Raw predictions: 0.980433\n",
      "Predicted class (0 or 1): 1\n",
      "--------------------------------------------------\n",
      "\u001b[1m1/1\u001b[0m \u001b[32m━━━━━━━━━━━━━━━━━━━━\u001b[0m\u001b[37m\u001b[0m \u001b[1m1s\u001b[0m 551ms/step\n",
      "Image: image_316.jpg\n",
      "Raw predictions: 1.0\n",
      "Predicted class (0 or 1): 1\n",
      "--------------------------------------------------\n"
     ]
    }
   ],
   "source": [
    "# Load the fine-tuned model\n",
    "model = tf.keras.models.load_model(r\"E:\\College\\SEM-7\\Minor Project\\SRC\\Models\\MP_VGG16-FineTunning-Modified-V3.h5\")\n",
    "\n",
    "# Define a function to preprocess images\n",
    "def preprocess_image(img):\n",
    "    img = img.resize((224, 224))  # Resize to expected size for VGG16\n",
    "    img_array = np.array(img)     # Convert to a numpy array\n",
    "    img_array = np.expand_dims(img_array, axis=0)  # Add batch dimension\n",
    "    return preprocess_input(img_array)  # Normalize the image\n",
    "\n",
    "# Directory containing images (replace with your actual directory)\n",
    "image_directory = r\"E:\\College\\SEM-7\\Minor Project\\Project\\Test Images\\Galucoma\"  # Replace with your image directory\n",
    "\n",
    "# Loop through all images in the directory\n",
    "for filename in os.listdir(image_directory):\n",
    "    if filename.endswith(('.png', '.jpg', '.jpeg')):  # Check if the file is an image\n",
    "        file_path = os.path.join(image_directory, filename)  # Full path to the image\n",
    "        \n",
    "        # Load and preprocess the image\n",
    "        original_image = Image.open(file_path)\n",
    "        preprocessed_image = preprocess_image(original_image)\n",
    "        \n",
    "        # Make predictions\n",
    "        predictions = model.predict(preprocessed_image)\n",
    "        \n",
    "        # If the model is using sigmoid for binary classification, the output will be a single probability.\n",
    "        predicted_class = 1 if predictions[0][0] > 0.5 else 0\n",
    "        \n",
    "        # Output raw prediction and predicted class for the image\n",
    "        print(f\"Image: {filename}\")\n",
    "        print(\"Raw predictions:\", predictions[0][0])\n",
    "        print(\"Predicted class (0 or 1):\", predicted_class)\n",
    "        print('-' * 50)  # Separator between images\n"
   ]
  },
  {
   "cell_type": "code",
   "execution_count": null,
   "metadata": {},
   "outputs": [],
   "source": []
  }
 ],
 "metadata": {
  "kernelspec": {
   "display_name": "predictenv",
   "language": "python",
   "name": "python3"
  },
  "language_info": {
   "codemirror_mode": {
    "name": "ipython",
    "version": 3
   },
   "file_extension": ".py",
   "mimetype": "text/x-python",
   "name": "python",
   "nbconvert_exporter": "python",
   "pygments_lexer": "ipython3",
   "version": "3.12.3"
  }
 },
 "nbformat": 4,
 "nbformat_minor": 2
}
